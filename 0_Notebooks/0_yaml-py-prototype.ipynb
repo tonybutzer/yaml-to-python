{
 "cells": [
  {
   "cell_type": "code",
   "execution_count": 1,
   "id": "83922bd1",
   "metadata": {},
   "outputs": [
    {
     "name": "stdout",
     "output_type": "stream",
     "text": [
      "../yaml_py/example/demo.yaml\n"
     ]
    }
   ],
   "source": [
    "import yaml\n",
    "\n",
    "yaml_file = '../yaml_py/example/demo.yaml'\n",
    "print(yaml_file)\n",
    "with open(yaml_file) as file:\n",
    "            code_dict = yaml.full_load(file)"
   ]
  },
  {
   "cell_type": "code",
   "execution_count": 2,
   "id": "36103acc",
   "metadata": {},
   "outputs": [
    {
     "data": {
      "text/plain": [
       "{'main_func': {'def': ['demo monet',\n",
       "   'display thumbnails',\n",
       "   'demo right side up sioux falls',\n",
       "   'demo sf upside down animation',\n",
       "   'turn it back to thomas']},\n",
       " 'demo monet': {'def': ['run sioux falls tci',\n",
       "   'demo calendar',\n",
       "   'demo thumbnails']},\n",
       " 'ut util fun': None,\n",
       " 'ut subcmd': None}"
      ]
     },
     "execution_count": 2,
     "metadata": {},
     "output_type": "execute_result"
    }
   ],
   "source": [
    "code_dict"
   ]
  },
  {
   "cell_type": "code",
   "execution_count": 3,
   "id": "c1909f2e",
   "metadata": {},
   "outputs": [],
   "source": [
    "def _underscore(fun):\n",
    "    funu = fun.replace(' ','_')\n",
    "    return funu"
   ]
  },
  {
   "cell_type": "code",
   "execution_count": 4,
   "id": "4033c65f",
   "metadata": {},
   "outputs": [],
   "source": [
    "def _function(fun):\n",
    "    funu = _underscore(fun)\n",
    "    #print(funu)\n",
    "    print(f'def {funu}():')\n",
    "    print(f'    \\\"\\\"\\\" GENERIC HELP for {funu}\\\"\\\"\\\"')\n",
    "    print(f'    print(\\\"{funu}\\\")')\n",
    "    print('')\n",
    "    print('')\n"
   ]
  },
  {
   "cell_type": "code",
   "execution_count": 5,
   "id": "f64102a9",
   "metadata": {},
   "outputs": [],
   "source": [
    "def _caller(fun):\n",
    "    funu = _underscore(fun)\n",
    "    #print(funu)\n",
    "    print(f'    {funu}()')"
   ]
  },
  {
   "cell_type": "code",
   "execution_count": 6,
   "id": "3d27162e",
   "metadata": {},
   "outputs": [],
   "source": [
    "def make_function(code, key, caller_list):\n",
    "    if code[key] != None:\n",
    "        for fun in code[key]['def']:\n",
    "            funu = _underscore(fun)\n",
    "            if funu not in caller_list:\n",
    "                _function(fun)"
   ]
  },
  {
   "cell_type": "code",
   "execution_count": 7,
   "id": "48dae358",
   "metadata": {},
   "outputs": [],
   "source": [
    "def make_caller(code, key):\n",
    "    funu = _underscore(key)\n",
    "    #print(funu)\n",
    "    print(f'def {funu}():')\n",
    "    print(f'    \\\"\\\"\\\" GENERIC HELP for {funu}\\\"\\\"\\\"')\n",
    "    print(f'    print(\\\"{funu}\\\")')\n",
    "    if code[key] != None:\n",
    "        for fun in code[key]['def']:\n",
    "            _caller(fun)\n",
    "    print('')"
   ]
  },
  {
   "cell_type": "code",
   "execution_count": 8,
   "id": "cc621fcb",
   "metadata": {},
   "outputs": [
    {
     "name": "stdout",
     "output_type": "stream",
     "text": [
      "def main_func():\n",
      "    \"\"\" GENERIC HELP for main_func\"\"\"\n",
      "    print(\"main_func\")\n",
      "    demo_monet()\n",
      "    display_thumbnails()\n",
      "    demo_right_side_up_sioux_falls()\n",
      "    demo_sf_upside_down_animation()\n",
      "    turn_it_back_to_thomas()\n",
      "\n",
      "def demo_monet():\n",
      "    \"\"\" GENERIC HELP for demo_monet\"\"\"\n",
      "    print(\"demo_monet\")\n",
      "    run_sioux_falls_tci()\n",
      "    demo_calendar()\n",
      "    demo_thumbnails()\n",
      "\n",
      "def ut_util_fun():\n",
      "    \"\"\" GENERIC HELP for ut_util_fun\"\"\"\n",
      "    print(\"ut_util_fun\")\n",
      "\n",
      "def ut_subcmd():\n",
      "    \"\"\" GENERIC HELP for ut_subcmd\"\"\"\n",
      "    print(\"ut_subcmd\")\n",
      "\n",
      "def display_thumbnails():\n",
      "    \"\"\" GENERIC HELP for display_thumbnails\"\"\"\n",
      "    print(\"display_thumbnails\")\n",
      "\n",
      "\n",
      "def demo_right_side_up_sioux_falls():\n",
      "    \"\"\" GENERIC HELP for demo_right_side_up_sioux_falls\"\"\"\n",
      "    print(\"demo_right_side_up_sioux_falls\")\n",
      "\n",
      "\n",
      "def demo_sf_upside_down_animation():\n",
      "    \"\"\" GENERIC HELP for demo_sf_upside_down_animation\"\"\"\n",
      "    print(\"demo_sf_upside_down_animation\")\n",
      "\n",
      "\n",
      "def turn_it_back_to_thomas():\n",
      "    \"\"\" GENERIC HELP for turn_it_back_to_thomas\"\"\"\n",
      "    print(\"turn_it_back_to_thomas\")\n",
      "\n",
      "\n",
      "def run_sioux_falls_tci():\n",
      "    \"\"\" GENERIC HELP for run_sioux_falls_tci\"\"\"\n",
      "    print(\"run_sioux_falls_tci\")\n",
      "\n",
      "\n",
      "def demo_calendar():\n",
      "    \"\"\" GENERIC HELP for demo_calendar\"\"\"\n",
      "    print(\"demo_calendar\")\n",
      "\n",
      "\n",
      "def demo_thumbnails():\n",
      "    \"\"\" GENERIC HELP for demo_thumbnails\"\"\"\n",
      "    print(\"demo_thumbnails\")\n",
      "\n",
      "\n",
      "main_func()\n"
     ]
    }
   ],
   "source": [
    "caller_list=[]\n",
    "for ky in code_dict.keys():\n",
    "    #print(ky)\n",
    "    make_caller(code_dict, ky)\n",
    "    caller_list.append(_underscore(ky))\n",
    "    \n",
    "for ky in code_dict.keys():\n",
    "    make_function(code_dict, ky, caller_list)\n",
    "    \n",
    "print('main_func()')"
   ]
  },
  {
   "cell_type": "code",
   "execution_count": 9,
   "id": "fff70d56",
   "metadata": {},
   "outputs": [
    {
     "data": {
      "text/plain": [
       "['demo monet',\n",
       " 'display thumbnails',\n",
       " 'demo right side up sioux falls',\n",
       " 'demo sf upside down animation',\n",
       " 'turn it back to thomas']"
      ]
     },
     "execution_count": 9,
     "metadata": {},
     "output_type": "execute_result"
    }
   ],
   "source": [
    "code_dict['main_func']['def']"
   ]
  },
  {
   "cell_type": "code",
   "execution_count": null,
   "id": "fbda90be",
   "metadata": {},
   "outputs": [],
   "source": []
  }
 ],
 "metadata": {
  "kernelspec": {
   "display_name": "Python 3 (ipykernel)",
   "language": "python",
   "name": "python3"
  },
  "language_info": {
   "codemirror_mode": {
    "name": "ipython",
    "version": 3
   },
   "file_extension": ".py",
   "mimetype": "text/x-python",
   "name": "python",
   "nbconvert_exporter": "python",
   "pygments_lexer": "ipython3",
   "version": "3.9.7"
  }
 },
 "nbformat": 4,
 "nbformat_minor": 5
}
